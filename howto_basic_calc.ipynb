演算と制御構造
算術演算 + - * / // % **

比較演算 == != < > <= >=

論理演算 and, or, not

if-elif-else 文

for ループ、range

while ループ

break, continue

