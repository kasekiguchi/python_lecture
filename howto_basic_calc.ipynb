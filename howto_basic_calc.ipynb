{
  "nbformat": 4,
  "nbformat_minor": 0,
  "metadata": {
    "colab": {
      "provenance": [],
      "authorship_tag": "ABX9TyMohvTaXRreBpPaWDSsYIxz",
      "include_colab_link": true
    },
    "kernelspec": {
      "name": "python3",
      "display_name": "Python 3"
    },
    "language_info": {
      "name": "python"
    }
  },
  "cells": [
    {
      "cell_type": "markdown",
      "metadata": {
        "id": "view-in-github",
        "colab_type": "text"
      },
      "source": [
        "<a href=\"https://colab.research.google.com/github/kasekiguchi/python_lecture/blob/main/howto_basic_calc.ipynb\" target=\"_parent\"><img src=\"https://colab.research.google.com/assets/colab-badge.svg\" alt=\"Open In Colab\"/></a>"
      ]
    },
    {
      "cell_type": "markdown",
      "source": [
        "Operations and Control Structures\n",
        "\n",
        "Summary\n",
        "Arithmetic Operations:  + - * / // % **\n",
        "\n",
        "Comparison operations:   == != < > <= >=\n",
        "\n",
        "Logical operations:  and, or, not\n",
        "\n",
        "Control Structures\n",
        "- if-elif-else\n",
        "- for loop、range\n",
        "- while loop\n",
        "- break, continue\n"
      ],
      "metadata": {
        "id": "J-7aMr4DzpQ4"
      }
    },
    {
      "cell_type": "code",
      "execution_count": null,
      "metadata": {
        "colab": {
          "base_uri": "https://localhost:8080/"
        },
        "id": "6R22nK2rzihG",
        "outputId": "990147e7-386c-44ed-f209-99aeedba4de8"
      },
      "outputs": [
        {
          "output_type": "stream",
          "name": "stdout",
          "text": [
            "11\n",
            "8\n",
            "30\n",
            "2.5\n",
            "2\n",
            "1\n",
            "10000\n"
          ]
        }
      ],
      "source": [
        "print(10+1)\n",
        "print(10-2)\n",
        "print(10*3)\n",
        "print(10/4)\n",
        "print(10//4)\n",
        "print(10%3)\n",
        "print(10**4)"
      ]
    },
    {
      "cell_type": "code",
      "source": [
        "print(10==10)\n",
        "print(10!=10)\n",
        "print(10<10)\n",
        "print(10>10)\n",
        "print(10<=10)\n",
        "print(10>=10)"
      ],
      "metadata": {
        "colab": {
          "base_uri": "https://localhost:8080/"
        },
        "id": "6aARGgG30lda",
        "outputId": "1b0e499d-474b-4fd4-c1d6-c9cc11bb2c9e"
      },
      "execution_count": null,
      "outputs": [
        {
          "output_type": "stream",
          "name": "stdout",
          "text": [
            "True\n",
            "False\n",
            "False\n",
            "False\n",
            "True\n",
            "True\n"
          ]
        }
      ]
    },
    {
      "cell_type": "code",
      "source": [
        "print(10==10 and 10!=10)\n",
        "print(10==10 or 10!=10)\n",
        "print(not 10==10)"
      ],
      "metadata": {
        "colab": {
          "base_uri": "https://localhost:8080/"
        },
        "id": "_3KVibnU0y7-",
        "outputId": "e4fafa74-ebc4-4021-b11d-8a1d14f99f5e"
      },
      "execution_count": null,
      "outputs": [
        {
          "output_type": "stream",
          "name": "stdout",
          "text": [
            "False\n",
            "True\n",
            "False\n"
          ]
        }
      ]
    },
    {
      "cell_type": "code",
      "source": [
        "# prompt: example of if structure\n",
        "\n",
        "a = 10\n",
        "b = 20\n",
        "\n",
        "if a > b:\n",
        "    print(\"a is greater than b\")\n",
        "elif a == b:\n",
        "    print(\"a is equal to b\")\n",
        "else:\n",
        "    print(\"a is less than b\")"
      ],
      "metadata": {
        "id": "MMb77KdV0g1t"
      },
      "execution_count": null,
      "outputs": []
    },
    {
      "cell_type": "code",
      "source": [
        "# prompt: example of for loop\n",
        "\n",
        "# for loop example\n",
        "for i in range(5):\n",
        "  print(i)\n",
        "\n",
        "# for loop with a list\n",
        "fruits = [\"apple\", \"banana\", \"cherry\"]\n",
        "for x in fruits:\n",
        "  print(x)\n",
        "\n",
        "# for loop with a string\n",
        "for x in \"banana\":\n",
        "  print(x)"
      ],
      "metadata": {
        "colab": {
          "base_uri": "https://localhost:8080/"
        },
        "id": "hqNaODV50dqa",
        "outputId": "b191f700-5053-4450-f9fa-408e46513434"
      },
      "execution_count": null,
      "outputs": [
        {
          "output_type": "stream",
          "name": "stdout",
          "text": [
            "0\n",
            "1\n",
            "2\n",
            "3\n",
            "4\n",
            "apple\n",
            "banana\n",
            "cherry\n",
            "b\n",
            "a\n",
            "n\n",
            "a\n",
            "n\n",
            "a\n"
          ]
        }
      ]
    },
    {
      "cell_type": "code",
      "source": [
        "# prompt: example of while loop\n",
        "\n",
        "# while loop example\n",
        "i = 0\n",
        "while i < 5:\n",
        "  print(i)\n",
        "  i += 1"
      ],
      "metadata": {
        "colab": {
          "base_uri": "https://localhost:8080/"
        },
        "id": "4vzmdoS41V2_",
        "outputId": "5e7c50d1-997c-4a46-8768-61eaab7ebe95"
      },
      "execution_count": null,
      "outputs": [
        {
          "output_type": "stream",
          "name": "stdout",
          "text": [
            "0\n",
            "1\n",
            "2\n",
            "3\n",
            "4\n"
          ]
        }
      ]
    },
    {
      "cell_type": "code",
      "source": [
        "# prompt: example of break and continue\n",
        "\n",
        "# break example\n",
        "for i in range(10):\n",
        "  if i == 5:\n",
        "    break  # Exit the loop when i is 5\n",
        "  print(i)\n",
        "\n",
        "print(\"\\n\")\n",
        "\n",
        "# continue example\n",
        "for i in range(10):\n",
        "  if i == 5:\n",
        "    continue  # Skip the rest of the current iteration when i is 5\n",
        "  print(i)"
      ],
      "metadata": {
        "colab": {
          "base_uri": "https://localhost:8080/"
        },
        "id": "NcPuUK5K0XnQ",
        "outputId": "70408cda-85fa-4918-ddff-ecb2ec423a8a"
      },
      "execution_count": null,
      "outputs": [
        {
          "output_type": "stream",
          "name": "stdout",
          "text": [
            "0\n",
            "1\n",
            "2\n",
            "3\n",
            "4\n",
            "\n",
            "\n",
            "0\n",
            "1\n",
            "2\n",
            "3\n",
            "4\n",
            "6\n",
            "7\n",
            "8\n",
            "9\n"
          ]
        }
      ]
    },
    {
      "cell_type": "code",
      "source": [],
      "metadata": {
        "id": "8VqXj97I1v6I"
      },
      "execution_count": null,
      "outputs": []
    }
  ]
}